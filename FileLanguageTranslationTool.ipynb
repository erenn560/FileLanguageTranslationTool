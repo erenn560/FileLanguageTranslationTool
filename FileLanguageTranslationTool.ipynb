{
 "cells": [
  {
   "cell_type": "markdown",
   "id": "c8b5f1c3",
   "metadata": {},
   "source": [
    "## Dosya Dil Çeviri Aracı (File Language Translation Tool)"
   ]
  },
  {
   "cell_type": "markdown",
   "id": "abd6e4b4",
   "metadata": {},
   "source": [
    "### Kütüphaneleri yükleme"
   ]
  },
  {
   "cell_type": "code",
   "execution_count": 36,
   "id": "3ced640e",
   "metadata": {},
   "outputs": [],
   "source": [
    "import pandas as pd\n",
    "import docx\n",
    "from googletrans import Translator\n",
    "from langdetect import detect\n",
    "import os"
   ]
  },
  {
   "cell_type": "markdown",
   "id": "5f0d0a84",
   "metadata": {},
   "source": [
    "### Dil isimleri ile kısaltmalar arasında eşleme"
   ]
  },
  {
   "cell_type": "code",
   "execution_count": 37,
   "id": "e6b782a5",
   "metadata": {},
   "outputs": [],
   "source": [
    "dil_eslemesi = {\n",
    "    'Türkçe': 'tr',\n",
    "    'İngilizce': 'en',\n",
    "    'İspanyolca': 'es',\n",
    "    'Fransızca': 'fr',\n",
    "    'Almanca': 'de',\n",
    "    'İtalyanca': 'it',\n",
    "    'Portekizce': 'pt',\n",
    "    'Arapça': 'ar',\n",
    "    'Çince': 'zh-cn',\n",
    "    'Japonca': 'ja',\n",
    "    'Korece': 'ko',\n",
    "    'Rusça': 'ru',\n",
    "    'Hollandaca': 'nl',\n",
    "    'İsveççe': 'sv',\n",
    "    'Danimarkaca': 'da',\n",
    "    'Norveççe': 'no',\n",
    "    'Fince': 'fi',\n",
    "    'Macarca': 'hu',\n",
    "    'Polonca': 'pl',\n",
    "    'Çekçe': 'cs',\n",
    "    'Slovakça': 'sk',\n",
    "    'Romence': 'ro',\n",
    "    'Bulgarca': 'bg',\n",
    "    'Yunanca': 'el',\n",
    "    'Türkmence': 'tk',\n",
    "    'Hindice': 'hi',\n",
    "    'Bengalce': 'bn',\n",
    "    'Urduca': 'ur',\n",
    "    'Vietce': 'vi',\n",
    "    'Thai': 'th',\n",
    "    'İndonezyaca': 'id',\n",
    "    'Malayca': 'ms',\n",
    "    'Filipince': 'tl'\n",
    "}\n"
   ]
  },
  {
   "cell_type": "markdown",
   "id": "11f310e1",
   "metadata": {},
   "source": [
    "### Çeviri aracı oluşturma"
   ]
  },
  {
   "cell_type": "code",
   "execution_count": 38,
   "id": "ab683984",
   "metadata": {},
   "outputs": [],
   "source": [
    "cevirmen = Translator()"
   ]
  },
  {
   "cell_type": "markdown",
   "id": "2b23e12f",
   "metadata": {},
   "source": [
    "### Metin çevirme fonksiyonu"
   ]
  },
  {
   "cell_type": "code",
   "execution_count": 39,
   "id": "37698c83",
   "metadata": {},
   "outputs": [],
   "source": [
    "def ceviri_metni(text, hedef_dil):\n",
    "    if not text.strip():\n",
    "        return text\n",
    "    try:\n",
    "        algilanan_dil = detect(text)  # Metnin dilini tespit etme\n",
    "        cevrilen = cevirmen.translate(text, src=algilanan_dil, dest=hedef_dil)  # Metni hedef dile çevirme\n",
    "        return cevrilen.text\n",
    "    except Exception as e:\n",
    "        print(f\"Metin çevrilirken hata oluştu: {text[:100]}, hata: {e}\")\n",
    "        return text  # Hata durumunda orijinal metni geri döndürme"
   ]
  },
  {
   "cell_type": "markdown",
   "id": "04344dd6",
   "metadata": {},
   "source": [
    "### CSV dosyasını çevirme fonksiyonu"
   ]
  },
  {
   "cell_type": "code",
   "execution_count": 40,
   "id": "d48df2f7",
   "metadata": {},
   "outputs": [],
   "source": [
    "def ceviri_csv(dosya_yolu, hedef_dil):\n",
    "    try:\n",
    "        df = pd.read_csv(dosya_yolu)  # CSV dosyasını okuma\n",
    "    except Exception as e:\n",
    "        print(f\"CSV dosyasını okurken hata oluştu: {e}\")\n",
    "        return\n",
    "    cevirilecek_sutunlar = df.columns\n",
    "    for sutun_adi in cevirilecek_sutunlar:\n",
    "        if sutun_adi in df.columns:\n",
    "            print(f\"Sütunu çevir: {sutun_adi}\")\n",
    "            df[sutun_adi] = df[sutun_adi].apply(lambda x: ceviri_metni(x, hedef_dil) if isinstance(x, str) else x)  # Metinleri çevirme\n",
    "    \n",
    "    yeni_dosya_yolu = dosya_yolu.replace('.csv', f'_cevrildi_{hedef_dil}.csv')  # Yeni dosya ismini oluşturma\n",
    "    df.to_csv(yeni_dosya_yolu, index=False)  # Çevrilen veriyi yeni dosyaya kaydetme\n",
    "    print(f\"Dosya çevrildi: {yeni_dosya_yolu}\")"
   ]
  },
  {
   "cell_type": "markdown",
   "id": "54d9c3af",
   "metadata": {},
   "source": [
    "### TXT dosyasını çevirme fonksiyonu"
   ]
  },
  {
   "cell_type": "code",
   "execution_count": 41,
   "id": "31edf301",
   "metadata": {},
   "outputs": [],
   "source": [
    "def ceviri_txt(dosya_yolu, hedef_dil):\n",
    "    try:\n",
    "        with open(dosya_yolu, 'r', encoding='utf-8') as dosya:\n",
    "            metin = dosya.read()  # TXT dosyasını okuma\n",
    "    except Exception as e:\n",
    "        print(f\"TXT dosyasını okurken hata oluştu: {e}\")\n",
    "        return\n",
    "    cevrilen_metin = ceviri_metni(metin, hedef_dil)  # Metni çevirme\n",
    "    \n",
    "    yeni_dosya_yolu = dosya_yolu.replace('.txt', f'_cevrildi_{hedef_dil}.txt')  # Yeni dosya ismini oluşturma\n",
    "    try:\n",
    "        with open(yeni_dosya_yolu, 'w', encoding='utf-8') as dosya:\n",
    "            dosya.write(cevrilen_metin)  # Çevrilen metni yeni dosyaya yazma\n",
    "    except Exception as e:\n",
    "        print(f\"TXT dosyası yazılırken hata oluştu: {e}\")\n",
    "        return\n",
    "    print(f\"Dosya çevrildi: {yeni_dosya_yolu}\")"
   ]
  },
  {
   "cell_type": "markdown",
   "id": "a5433a47",
   "metadata": {},
   "source": [
    "### DOCX dosyasını çevirme fonksiyonu"
   ]
  },
  {
   "cell_type": "code",
   "execution_count": 42,
   "id": "bef33b38",
   "metadata": {},
   "outputs": [],
   "source": [
    "def ceviri_docx(dosya_yolu, hedef_dil):\n",
    "    try:\n",
    "        doc = docx.Document(dosya_yolu)  # DOCX dosyasını okuma\n",
    "    except Exception as e:\n",
    "        print(f\"DOCX dosyasını okurken hata oluştu: {e}\")\n",
    "        return\n",
    "    for paragraf in doc.paragraphs:\n",
    "        if paragraf.text.strip():  # Boş olmayan metinler için çeviri yapma\n",
    "            paragraf.text = ceviri_metni(paragraf.text, hedef_dil)\n",
    "    \n",
    "    yeni_dosya_yolu = dosya_yolu.replace('.docx', f'_cevrildi_{hedef_dil}.docx')  # Yeni dosya ismini oluşturma\n",
    "    try:\n",
    "        doc.save(yeni_dosya_yolu)  # Çevrilen metni yeni dosyaya kaydetme\n",
    "    except Exception as e:\n",
    "        print(f\"DOCX dosyası kaydedilirken hata oluştu: {e}\")\n",
    "        return\n",
    "    print(f\"Dosya çevrildi: {yeni_dosya_yolu}\")"
   ]
  },
  {
   "cell_type": "markdown",
   "id": "03f10a86",
   "metadata": {},
   "source": [
    "### Ana fonksiyon"
   ]
  },
  {
   "cell_type": "code",
   "execution_count": 43,
   "id": "9ee8e4f0",
   "metadata": {},
   "outputs": [],
   "source": [
    "def ana_fonksiyon():\n",
    "    dosya_yolu = input(\"Çevrilecek dosyanın yolunu giriniz (csv, txt, docx): \").strip()  # Dosya yolunu kullanıcıdan alma\n",
    "    hedef_dil_adi = input(\"Hedef dili giriniz ('Türkçe', 'İngilizce'): \").strip()  # Hedef dili kullanıcıdan alma\n",
    "    \n",
    "    hedef_dil = dil_eslemesi.get(hedef_dil_adi)  # Hedef dilin kısaltmasını alma\n",
    "    if not hedef_dil:\n",
    "        print(\"Desteklenmeyen hedef dil.\")\n",
    "        return\n",
    "\n",
    "    if not os.path.isfile(dosya_yolu):\n",
    "        print(\"Dosya bulunamadı.\")\n",
    "        return\n",
    "\n",
    "    dosya_uzantisi = os.path.splitext(dosya_yolu)[1].lower()  # Dosya uzantısını alma\n",
    "    if dosya_uzantisi == '.csv':\n",
    "        ceviri_csv(dosya_yolu, hedef_dil)  # CSV dosyasını çevirme\n",
    "    elif dosya_uzantisi == '.txt':\n",
    "        ceviri_txt(dosya_yolu, hedef_dil)  # TXT dosyasını çevirme\n",
    "    elif dosya_uzantisi == '.docx':\n",
    "        ceviri_docx(dosya_yolu, hedef_dil)  # DOCX dosyasını çevirme\n",
    "    else:\n",
    "        print(\"Desteklenmeyen dosya formatı.\")"
   ]
  },
  {
   "cell_type": "markdown",
   "id": "1cdad270",
   "metadata": {},
   "source": [
    "### Ana fonksiyonu çalıştırma"
   ]
  },
  {
   "cell_type": "code",
   "execution_count": 44,
   "id": "09a1953d",
   "metadata": {},
   "outputs": [
    {
     "name": "stdout",
     "output_type": "stream",
     "text": [
      "Çevrilecek dosyanın yolunu giriniz (csv, txt, docx): csvMetni.csv\n",
      "Hedef dili giriniz ('Türkçe', 'İngilizce'): Türkçe\n",
      "Sütunu çevir: ArticleId\n",
      "Sütunu çevir: Text\n",
      "Sütunu çevir: Category\n",
      "Dosya çevrildi: csvMetni_cevrildi_tr.csv\n"
     ]
    }
   ],
   "source": [
    "if __name__ == \"__main__\":\n",
    "    ana_fonksiyon()"
   ]
  }
 ],
 "metadata": {
  "kernelspec": {
   "display_name": "Python 3 (ipykernel)",
   "language": "python",
   "name": "python3"
  },
  "language_info": {
   "codemirror_mode": {
    "name": "ipython",
    "version": 3
   },
   "file_extension": ".py",
   "mimetype": "text/x-python",
   "name": "python",
   "nbconvert_exporter": "python",
   "pygments_lexer": "ipython3",
   "version": "3.11.5"
  }
 },
 "nbformat": 4,
 "nbformat_minor": 5
}
